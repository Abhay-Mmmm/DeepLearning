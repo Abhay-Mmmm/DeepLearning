{
 "cells": [
  {
   "cell_type": "code",
   "execution_count": 1,
   "id": "56ebcffa-6c39-4616-affa-181d03fce83f",
   "metadata": {},
   "outputs": [],
   "source": [
    "import numpy as np\n",
    "y_predicted = np.array([1,1,0,0,1])\n",
    "y_true = np.array([0.30,0.7,1,0,0.5])"
   ]
  },
  {
   "cell_type": "markdown",
   "id": "075c4d96-8899-4f6d-a0c9-057d85c4f34d",
   "metadata": {},
   "source": [
    "# Without using Numpy Functions"
   ]
  },
  {
   "cell_type": "code",
   "execution_count": 2,
   "id": "ef227a69-fd68-433c-8e8e-3e7abd10171b",
   "metadata": {},
   "outputs": [],
   "source": [
    "def mse(y_predicted, y_true):\n",
    "    total_error = 0\n",
    "    for yp, yt in zip(y_predicted, y_true):\n",
    "        total_error += abs(yp - yt)**2\n",
    "    print(\"Total error is:\",total_error)\n",
    "    mse = total_error/len(y_predicted)\n",
    "    print(\"Mean square error is:\",mse)"
   ]
  },
  {
   "cell_type": "code",
   "execution_count": 3,
   "id": "6e1c1267-70e6-4403-a20e-ff043336bc95",
   "metadata": {},
   "outputs": [
    {
     "name": "stdout",
     "output_type": "stream",
     "text": [
      "Total error is: 1.83\n",
      "Mean square error is: 0.366\n"
     ]
    }
   ],
   "source": [
    "mse(y_predicted, y_true)"
   ]
  },
  {
   "cell_type": "markdown",
   "id": "28439f0b-4c37-4b8e-acda-f5eafb61c131",
   "metadata": {},
   "source": [
    "# By using Numpy Functions"
   ]
  },
  {
   "cell_type": "code",
   "execution_count": 4,
   "id": "6f349dbe-66ec-44f8-bdd6-363e0b406def",
   "metadata": {},
   "outputs": [
    {
     "data": {
      "text/plain": [
       "array([0.49, 0.09, 1.  , 0.  , 0.25])"
      ]
     },
     "execution_count": 4,
     "metadata": {},
     "output_type": "execute_result"
    }
   ],
   "source": [
    "np.abs(y_predicted - y_true)**2"
   ]
  },
  {
   "cell_type": "markdown",
   "id": "52f8775a-f6cb-4337-83b6-05d9de903ef0",
   "metadata": {},
   "source": [
    "**MSE is :**"
   ]
  },
  {
   "cell_type": "code",
   "execution_count": 5,
   "id": "865a6cb4-9276-45d7-8909-84317be73004",
   "metadata": {},
   "outputs": [
    {
     "data": {
      "text/plain": [
       "0.366"
      ]
     },
     "execution_count": 5,
     "metadata": {},
     "output_type": "execute_result"
    }
   ],
   "source": [
    "np.mean(np.abs(y_predicted - y_true)**2)"
   ]
  }
 ],
 "metadata": {
  "kernelspec": {
   "display_name": "Python 3 (ipykernel)",
   "language": "python",
   "name": "python3"
  },
  "language_info": {
   "codemirror_mode": {
    "name": "ipython",
    "version": 3
   },
   "file_extension": ".py",
   "mimetype": "text/x-python",
   "name": "python",
   "nbconvert_exporter": "python",
   "pygments_lexer": "ipython3",
   "version": "3.10.10"
  }
 },
 "nbformat": 4,
 "nbformat_minor": 5
}
